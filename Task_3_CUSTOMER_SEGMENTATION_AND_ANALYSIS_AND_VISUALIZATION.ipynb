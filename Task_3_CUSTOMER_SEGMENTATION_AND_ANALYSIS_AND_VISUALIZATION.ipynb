{
  "nbformat": 4,
  "nbformat_minor": 0,
  "metadata": {
    "colab": {
      "private_outputs": true,
      "provenance": []
    },
    "kernelspec": {
      "name": "python3",
      "display_name": "Python 3"
    },
    "language_info": {
      "name": "python"
    }
  },
  "cells": [
    {
      "cell_type": "markdown",
      "source": [
        "**TASK-3 : CUSTOMER SEGMENTATION AND ANALYSIS AND VISUALIZATION**\n",
        "\n",
        "## Author:Shaik Rafi\n",
        "\n",
        "## Batch:July\n",
        "\n",
        "## Domain:Data analytics\n",
        "\n"
      ],
      "metadata": {
        "id": "a4zK_nwbZQ8p"
      }
    },
    {
      "cell_type": "code",
      "execution_count": null,
      "metadata": {
        "id": "uD5ClqcQKWKN"
      },
      "outputs": [],
      "source": [
        "import pandas as pd\n",
        "import numpy as np"
      ]
    },
    {
      "cell_type": "code",
      "source": [
        "import matplotlib.pyplot as plt\n",
        "import seaborn as sns"
      ],
      "metadata": {
        "id": "cvlc1MYHKsb-"
      },
      "execution_count": null,
      "outputs": []
    },
    {
      "cell_type": "code",
      "source": [
        "df = pd.read_csv(\"/content/Mall_Customers.csv\")"
      ],
      "metadata": {
        "id": "VmvFvhwyK7rz"
      },
      "execution_count": null,
      "outputs": []
    },
    {
      "cell_type": "code",
      "source": [
        "df.head()"
      ],
      "metadata": {
        "id": "wLa6tFFlLIpA"
      },
      "execution_count": null,
      "outputs": []
    },
    {
      "cell_type": "code",
      "source": [
        "df.tail()"
      ],
      "metadata": {
        "id": "cedoJk3tLOtt"
      },
      "execution_count": null,
      "outputs": []
    },
    {
      "cell_type": "code",
      "source": [
        "genders = df.Gender.value_counts()"
      ],
      "metadata": {
        "id": "RplxVQ6bLW5s"
      },
      "execution_count": null,
      "outputs": []
    },
    {
      "cell_type": "code",
      "source": [
        "plt.figure(figsize=(10,20))"
      ],
      "metadata": {
        "id": "IfZtrKxaL3F-"
      },
      "execution_count": null,
      "outputs": []
    },
    {
      "cell_type": "code",
      "source": [
        "sns.barplot(x=genders.index,y=genders.values)"
      ],
      "metadata": {
        "id": "Z7NvhomUMHzu"
      },
      "execution_count": null,
      "outputs": []
    },
    {
      "cell_type": "code",
      "source": [
        "age18_25 = df.Age[(df.Age<=25)&(df.Age>=18)]\n",
        "age26_35 =  df.Age[(df.Age<=35)&(df.Age>=26)]\n",
        "age36_45 =  df.Age[(df.Age<=45)&(df.Age>=36)]\n",
        "age46_55 =  df.Age[(df.Age<=55)&(df.Age>=46)]\n",
        "age55above  = df.Age[(df.Age>=56)]"
      ],
      "metadata": {
        "id": "QwVJnRxQNV1s"
      },
      "execution_count": null,
      "outputs": []
    },
    {
      "cell_type": "code",
      "source": [
        "x=[\"18-25\",\"36-45\",\"46-55\",\"Above 55\"]\n",
        "y=[len(age18_25.values),len(age26_35.values),len(age36_45.values),len(age46_55.values),len(age55above.values)]"
      ],
      "metadata": {
        "id": "uHtc26aoPEMC"
      },
      "execution_count": null,
      "outputs": []
    },
    {
      "cell_type": "code",
      "source": [
        "plt.figure(figsize=(15,6))\n",
        "plt.title(\"Number of customer and ages\")\n",
        "plt.xlabel(\"Ages\")\n",
        "plt.ylabel(\"No of customers\")\n",
        "sns.barplot(x=x,y=y)\n",
        "plt.show()"
      ],
      "metadata": {
        "id": "mEsxHMUDUEkf"
      },
      "execution_count": null,
      "outputs": []
    },
    {
      "cell_type": "code",
      "source": [
        "ai0_30 = df[\"Annual Income (k$)\"][(df[\"Annual Income (k$)\"]>=0)&(df[\"Annual Income (k$)\"]<=30)]\n",
        "ai31_60 = df[\"Annual Income (k$)\"][(df[\"Annual Income (k$)\"]>=31)&(df[\"Annual Income (k$)\"]<=60)]\n",
        "ai61_90 = df[\"Annual Income (k$)\"][(df[\"Annual Income (k$)\"]>=61)&(df[\"Annual Income (k$)\"]<=90)]\n",
        "ai91_120 = df[\"Annual Income (k$)\"][(df[\"Annual Income (k$)\"]>=91)&(df[\"Annual Income (k$)\"]<=120)]\n",
        "ai121_150 = df[\"Annual Income (k$)\"][(df[\"Annual Income (k$)\"]>=121)&(df[\"Annual Income (k$)\"]<=150)]"
      ],
      "metadata": {
        "id": "3KQ6jCdCUkJ_"
      },
      "execution_count": null,
      "outputs": []
    },
    {
      "cell_type": "code",
      "source": [
        "x=[\"0-30\",\"31-60\",\"61-90\",\"91-120\",\"121-150\"]\n",
        "y=[len(ai0_30.values),len(ai31_60.values),len(ai61_90.values),len(ai91_120.values),len(ai121_150.values)]"
      ],
      "metadata": {
        "id": "ODqVLSLCW4D8"
      },
      "execution_count": null,
      "outputs": []
    },
    {
      "cell_type": "code",
      "source": [
        "plt.figure(figsize=(15,6))\n",
        "plt.title(\"Number of customer and income\")\n",
        "plt.xlabel(\"Income\")\n",
        "plt.ylabel(\"Number  of customers\")\n",
        "sns.barplot(x=x,y=y)\n",
        "plt.show()"
      ],
      "metadata": {
        "id": "Rp-jfdxBX2Qt"
      },
      "execution_count": null,
      "outputs": []
    },
    {
      "cell_type": "markdown",
      "source": [
        "# **Task 3 is completed**"
      ],
      "metadata": {
        "id": "Wd-EETbYYVgc"
      }
    }
  ]
}